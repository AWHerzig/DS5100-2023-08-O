{
 "cells": [
  {
   "cell_type": "code",
   "execution_count": 1,
   "id": "531ada01-a08c-4454-bd39-600ceebb86e3",
   "metadata": {},
   "outputs": [
    {
     "name": "stdout",
     "output_type": "stream",
     "text": [
      "01 | nrg6cb | I've been watching the 'Mayday Air Disaster' series recently - its been really interesting to learn about the ways in which accidents have improved the safety of the industry, and about how such a complex area is kept safe over long timeframes and high usage. Typed from Rivanna Shell Access so please excuse any spelling issues!\n",
      "02 | qqx3eh | \n",
      "03 | xuw9ap | This is Nathan Lyell and the most recent movie I watched and enjoyed was Oppenheimer\n",
      "04 | csl5hw | The most recent film I enjoyed is Oppenheimer.\n",
      "05 | clotane | The most recent film I enjoyed is Oppenheimer.\n",
      "06 | atferentinos | What is the most recent film you watched and enjoyed?  Recently, I watched \"Pulp Fiction\" with my fiance. I have heard a lot about the film, but never got around to watching it.\n",
      "07 | aqsaxm | Hello my name is Aqsa and I recently watched Scream 5.\n",
      "08 | tds8tv | I recently watched and enjoyed Oppenheimer\n",
      "09 | rtt4fb | Taylor Tucker  The most recent movie I have watched and enjoyed is The Highwaymen on Netflix. It's about the two former Texas Rangers (Kevin Costner and Woody Harrelson) who hunted down Bonnie and Clyde.\n",
      "10 | rmd9ev | Hi, my name is Rachel! The most recent film I watched and enjoyed was Barbie. It had a powerful message, while also being lighthearted and funny.\n",
      "11 | bdj9wf | My name is Brendan and the most recent movie that I watched and enjoyed was Shawshank Redemption, I completely understand \\n why it is such a highly rated movie.\n",
      "12 | gshoriz | Most recent film I watched and enjoyed is One Piece Film: Red\n",
      "13 | qzx7av | Hello, my name is Karthika. The most recent film I watched was called Jailer.\n",
      "14 | krb3ym | Oppenheimer\n",
      "15 | uay3yb | What is the most recent film you watched and enjoyed? Harry Potter\n",
      "16 | dkr5ud | Star Trek (the 2009 release)\n",
      "17 | rn7ena | I just watched Avatar: Way of Water with my sister along with all of the \"behind the scenes\" extras on Disney+ and I thought it was really cool!\n",
      "18 | 141654114 | I'm Eric. I really like Oppenheimer.\n",
      "19 | dja8tx | Harry Potter and the Half-Blood Prince\n",
      "20 | jrr4n | I recently re-watched the movie \"Yeh Jawaani Hai Deewani\" and I enjoyed it very much.\n"
     ]
    }
   ],
   "source": [
    "import glob\n",
    "\n",
    "files = glob.glob(\"./hello/*_*.txt\")\n",
    "\n",
    "n = 0\n",
    "for i, file in enumerate(files):\n",
    "    sid = file.split(\"/\")[2].split(\"_\")[0]\n",
    "    n += 1\n",
    "    line = open(file, 'r').read().strip()\n",
    "    print(str(n).zfill(2), sid, line.replace('\\n', ' '), sep=' | ')"
   ]
  },
  {
   "cell_type": "code",
   "execution_count": null,
   "id": "d639031b-10ed-47ad-a3fd-87ddc9c91d74",
   "metadata": {},
   "outputs": [],
   "source": []
  }
 ],
 "metadata": {
  "kernelspec": {
   "display_name": "eta",
   "language": "python",
   "name": "eta"
  },
  "language_info": {
   "codemirror_mode": {
    "name": "ipython",
    "version": 3
   },
   "file_extension": ".py",
   "mimetype": "text/x-python",
   "name": "python",
   "nbconvert_exporter": "python",
   "pygments_lexer": "ipython3",
   "version": "3.11.3"
  },
  "widgets": {
   "application/vnd.jupyter.widget-state+json": {
    "state": {},
    "version_major": 2,
    "version_minor": 0
   }
  }
 },
 "nbformat": 4,
 "nbformat_minor": 5
}
