{
 "cells": [
  {
   "cell_type": "markdown",
   "id": "48c25cbe-e05e-4912-90eb-a03fc2f639c1",
   "metadata": {},
   "source": [
    "# M02 Notes"
   ]
  },
  {
   "cell_type": "markdown",
   "id": "f26108c1-d3b5-41d5-ba22-e06a9873e296",
   "metadata": {
    "jp-MarkdownHeadingCollapsed": true,
    "tags": []
   },
   "source": [
    "# Review Assignment\n",
    "\n",
    "See [M01 Notebook](http://localhost:8888/lab/tree/Dropbox/Courses/DS/DS5100/DS5100-2023-08-O/repo/notebooks/M01_GettingStarted/M01_ImportHello.ipynb) for results."
   ]
  },
  {
   "cell_type": "markdown",
   "id": "b1950306-52fd-4544-ba4a-c179e1fe7195",
   "metadata": {},
   "source": [
    "# Completion Rates"
   ]
  },
  {
   "cell_type": "code",
   "execution_count": 85,
   "id": "584b4c10-5da6-4517-b239-598119a3408e",
   "metadata": {
    "tags": []
   },
   "outputs": [],
   "source": [
    "import pandas as pd\n",
    "import numpy as np"
   ]
  },
  {
   "cell_type": "code",
   "execution_count": 86,
   "id": "97d2ed68-babb-4370-ac58-ba3b65d53051",
   "metadata": {
    "tags": []
   },
   "outputs": [],
   "source": [
    "df = pd.DataFrame(columns=['key','val']).set_index('key')"
   ]
  },
  {
   "cell_type": "code",
   "execution_count": 87,
   "id": "5f036f8c-4253-4b80-a8d3-bd167d27c906",
   "metadata": {
    "tags": []
   },
   "outputs": [],
   "source": [
    "df.loc['n_students'] = 47\n",
    "df.loc['n_forks'] = 42\n",
    "df.loc['n_pull_requests'] = 34\n",
    "df.loc['n_hello_texts'] =  34\n",
    "df.loc['n_correct_texts'] = 33"
   ]
  },
  {
   "cell_type": "code",
   "execution_count": 88,
   "id": "b43eeb2e-fd3e-4522-b372-10f5b7c4b743",
   "metadata": {
    "tags": []
   },
   "outputs": [],
   "source": [
    "df['completion'] = np.round(df['val'] / df.loc['n_students', 'val'], 2)"
   ]
  },
  {
   "cell_type": "code",
   "execution_count": 89,
   "id": "a9c41b2c-cdb0-40ce-8b4b-8c4c7fcbc77c",
   "metadata": {
    "tags": []
   },
   "outputs": [],
   "source": [
    "df['missing'] = df.loc['n_students', 'val']- df['val']"
   ]
  },
  {
   "cell_type": "code",
   "execution_count": 90,
   "id": "ad74b760-57a1-40c6-9947-d6be1d4ded7b",
   "metadata": {
    "tags": []
   },
   "outputs": [
    {
     "data": {
      "text/html": [
       "<div>\n",
       "<style scoped>\n",
       "    .dataframe tbody tr th:only-of-type {\n",
       "        vertical-align: middle;\n",
       "    }\n",
       "\n",
       "    .dataframe tbody tr th {\n",
       "        vertical-align: top;\n",
       "    }\n",
       "\n",
       "    .dataframe thead th {\n",
       "        text-align: right;\n",
       "    }\n",
       "</style>\n",
       "<table border=\"1\" class=\"dataframe\">\n",
       "  <thead>\n",
       "    <tr style=\"text-align: right;\">\n",
       "      <th></th>\n",
       "      <th>val</th>\n",
       "      <th>completion</th>\n",
       "      <th>missing</th>\n",
       "    </tr>\n",
       "    <tr>\n",
       "      <th>key</th>\n",
       "      <th></th>\n",
       "      <th></th>\n",
       "      <th></th>\n",
       "    </tr>\n",
       "  </thead>\n",
       "  <tbody>\n",
       "    <tr>\n",
       "      <th>n_students</th>\n",
       "      <td>47</td>\n",
       "      <td>1.00</td>\n",
       "      <td>0</td>\n",
       "    </tr>\n",
       "    <tr>\n",
       "      <th>n_forks</th>\n",
       "      <td>42</td>\n",
       "      <td>0.89</td>\n",
       "      <td>5</td>\n",
       "    </tr>\n",
       "    <tr>\n",
       "      <th>n_pull_requests</th>\n",
       "      <td>34</td>\n",
       "      <td>0.72</td>\n",
       "      <td>13</td>\n",
       "    </tr>\n",
       "    <tr>\n",
       "      <th>n_hello_texts</th>\n",
       "      <td>34</td>\n",
       "      <td>0.72</td>\n",
       "      <td>13</td>\n",
       "    </tr>\n",
       "    <tr>\n",
       "      <th>n_correct_texts</th>\n",
       "      <td>33</td>\n",
       "      <td>0.70</td>\n",
       "      <td>14</td>\n",
       "    </tr>\n",
       "  </tbody>\n",
       "</table>\n",
       "</div>"
      ],
      "text/plain": [
       "                 val  completion  missing\n",
       "key                                      \n",
       "n_students        47        1.00        0\n",
       "n_forks           42        0.89        5\n",
       "n_pull_requests   34        0.72       13\n",
       "n_hello_texts     34        0.72       13\n",
       "n_correct_texts   33        0.70       14"
      ]
     },
     "execution_count": 90,
     "metadata": {},
     "output_type": "execute_result"
    }
   ],
   "source": [
    "df"
   ]
  },
  {
   "cell_type": "code",
   "execution_count": 7,
   "id": "21457a4c-19e3-4401-852d-ee784aabcbde",
   "metadata": {
    "tags": []
   },
   "outputs": [
    {
     "data": {
      "text/plain": [
       "val           47.0\n",
       "completion     1.0\n",
       "missing        0.0\n",
       "Name: n_students, dtype: float64"
      ]
     },
     "execution_count": 7,
     "metadata": {},
     "output_type": "execute_result"
    }
   ],
   "source": [
    " df.T.n_students"
   ]
  },
  {
   "cell_type": "markdown",
   "id": "96347db0-233a-4e22-b928-04afea4f6f92",
   "metadata": {},
   "source": [
    "# Concepts\n",
    "\n",
    "## Data / Code\n",
    "\n",
    "Data vs algorithm (code). How are they related?\n",
    "\n",
    "## Data types and structures\n",
    "\n",
    "Sata types and data structures. What are the differences?\n",
    "\n",
    "## Strings\n",
    "\n",
    "Strings are data types, but internally they are like data structures.\n",
    "\n",
    "Internally, a string is a sequence of Unicode code points.\n",
    "\n",
    "- A code point is a numerical value that maps to a specific character.\n",
    "- Unicode is an international standard of code points that map onto the alphabets of many languages.\n",
    "\n",
    "Each character is an element in an immutable list-like structure.\n",
    "\n",
    "You can access it's elements as if it were a tuple of characters:"
   ]
  },
  {
   "cell_type": "code",
   "execution_count": 9,
   "id": "c1d702fc-62b2-4ee6-900e-4c602c4bfd5d",
   "metadata": {
    "tags": []
   },
   "outputs": [
    {
     "name": "stdout",
     "output_type": "stream",
     "text": [
      "T\n",
      "g\n",
      "his\n"
     ]
    }
   ],
   "source": [
    "my_string = \"This is a string\"\n",
    "print(my_string[0])\n",
    "print(my_string[-1])\n",
    "print(my_string[1:4])"
   ]
  },
  {
   "cell_type": "markdown",
   "id": "ff8aa19a-8cb9-4cca-ba5c-438a3b1e593b",
   "metadata": {},
   "source": [
    "But also like a tuple, you can't change its values:"
   ]
  },
  {
   "cell_type": "code",
   "execution_count": 97,
   "id": "e2f9c7a3-6739-4787-9cc8-23e5d276de8e",
   "metadata": {
    "tags": []
   },
   "outputs": [
    {
     "ename": "TypeError",
     "evalue": "'str' object does not support item assignment",
     "output_type": "error",
     "traceback": [
      "\u001b[0;31m---------------------------------------------------------------------------\u001b[0m",
      "\u001b[0;31mTypeError\u001b[0m                                 Traceback (most recent call last)",
      "Cell \u001b[0;32mIn[97], line 1\u001b[0m\n\u001b[0;32m----> 1\u001b[0m my_string[\u001b[38;5;241m2\u001b[39m] \u001b[38;5;241m=\u001b[39m \u001b[38;5;124m'\u001b[39m\u001b[38;5;124ma\u001b[39m\u001b[38;5;124m'\u001b[39m\n\u001b[1;32m      2\u001b[0m my_string[\u001b[38;5;241m3\u001b[39m] \u001b[38;5;241m=\u001b[39m \u001b[38;5;124m'\u001b[39m\u001b[38;5;124mt\u001b[39m\u001b[38;5;124m'\u001b[39m\n",
      "\u001b[0;31mTypeError\u001b[0m: 'str' object does not support item assignment"
     ]
    }
   ],
   "source": [
    "my_string[2] = 'a'\n",
    "my_string[3] = 't'"
   ]
  },
  {
   "cell_type": "markdown",
   "id": "7d0bc7b3-1bb6-423d-96ab-3ef8f9a2fcfa",
   "metadata": {},
   "source": [
    "Note that some languages, like Java, have a data type for individual characters, e.g. `A`."
   ]
  },
  {
   "cell_type": "markdown",
   "id": "ca3d2495-0db5-448e-b0a3-bd2b268c4f4b",
   "metadata": {
    "tags": []
   },
   "source": [
    "## Mutability\n",
    "\n",
    "A mutable object is one whose internal value can be changed. \n",
    "\n",
    "This property applies to data structures.\n",
    "\n",
    "Tuples are immutable, lists are not."
   ]
  },
  {
   "cell_type": "markdown",
   "id": "044fcb19-fd62-4062-9058-4dd066f5551a",
   "metadata": {},
   "source": [
    "**Demonstration**"
   ]
  },
  {
   "cell_type": "markdown",
   "id": "5efd7b93-5b58-43d4-a3d8-a81bb200089a",
   "metadata": {},
   "source": [
    "Here, we mutate a list by appending a value to it."
   ]
  },
  {
   "cell_type": "code",
   "execution_count": 98,
   "id": "3c8e1f43-0e5a-4077-aae8-529a2d6f59fe",
   "metadata": {
    "tags": []
   },
   "outputs": [
    {
     "name": "stdout",
     "output_type": "stream",
     "text": [
      "[1, 2, 3, 4, 5, 10]\n"
     ]
    }
   ],
   "source": [
    "a = [1,2,3,4,5]\n",
    "a.append(10)\n",
    "print(a)"
   ]
  },
  {
   "cell_type": "code",
   "execution_count": 99,
   "id": "492b95ea-7aac-4e6b-a3ce-01dfad500436",
   "metadata": {
    "tags": []
   },
   "outputs": [
    {
     "name": "stdout",
     "output_type": "stream",
     "text": [
      "[5, 2, 3, 4, 5, 10]\n"
     ]
    }
   ],
   "source": [
    "a[0] = 5\n",
    "print(a)"
   ]
  },
  {
   "cell_type": "markdown",
   "id": "24e9ced7-9bd6-47e7-94fb-5435f9b92c21",
   "metadata": {},
   "source": [
    "If we try the same things with a tuple, we get an error."
   ]
  },
  {
   "cell_type": "code",
   "execution_count": 20,
   "id": "28060b50-c8e3-49eb-aba7-ed785754c344",
   "metadata": {
    "tags": []
   },
   "outputs": [
    {
     "ename": "AttributeError",
     "evalue": "'tuple' object has no attribute 'append'",
     "output_type": "error",
     "traceback": [
      "\u001b[0;31m---------------------------------------------------------------------------\u001b[0m",
      "\u001b[0;31mAttributeError\u001b[0m                            Traceback (most recent call last)",
      "Cell \u001b[0;32mIn[20], line 2\u001b[0m\n\u001b[1;32m      1\u001b[0m b \u001b[38;5;241m=\u001b[39m (\u001b[38;5;241m1\u001b[39m,\u001b[38;5;241m2\u001b[39m,\u001b[38;5;241m3\u001b[39m,\u001b[38;5;241m4\u001b[39m,\u001b[38;5;241m5\u001b[39m)\n\u001b[0;32m----> 2\u001b[0m b\u001b[38;5;241m.\u001b[39mappend(\u001b[38;5;241m10\u001b[39m)\n\u001b[1;32m      3\u001b[0m \u001b[38;5;28mprint\u001b[39m(b)\n",
      "\u001b[0;31mAttributeError\u001b[0m: 'tuple' object has no attribute 'append'"
     ]
    }
   ],
   "source": [
    "b = (1,2,3,4,5)\n",
    "b.append(10)\n",
    "print(b)"
   ]
  },
  {
   "cell_type": "code",
   "execution_count": 22,
   "id": "c36fd9e7-092a-47c1-b6e9-22b653728417",
   "metadata": {
    "tags": []
   },
   "outputs": [
    {
     "ename": "TypeError",
     "evalue": "'tuple' object does not support item assignment",
     "output_type": "error",
     "traceback": [
      "\u001b[0;31m---------------------------------------------------------------------------\u001b[0m",
      "\u001b[0;31mTypeError\u001b[0m                                 Traceback (most recent call last)",
      "Cell \u001b[0;32mIn[22], line 1\u001b[0m\n\u001b[0;32m----> 1\u001b[0m b[\u001b[38;5;241m0\u001b[39m] \u001b[38;5;241m=\u001b[39m \u001b[38;5;241m5\u001b[39m\n\u001b[1;32m      2\u001b[0m \u001b[38;5;28mprint\u001b[39m(b)\n",
      "\u001b[0;31mTypeError\u001b[0m: 'tuple' object does not support item assignment"
     ]
    }
   ],
   "source": [
    "b[0] = 5\n",
    "print(b)"
   ]
  },
  {
   "cell_type": "markdown",
   "id": "d429ce17-74c3-4890-8a98-598f3ccce721",
   "metadata": {},
   "source": [
    "This, on the other hand, is not mutation:"
   ]
  },
  {
   "cell_type": "code",
   "execution_count": 11,
   "id": "e40665c5-c3ac-41b2-a6f9-ebab6aac1452",
   "metadata": {
    "tags": []
   },
   "outputs": [
    {
     "name": "stdout",
     "output_type": "stream",
     "text": [
      "[1, 2, 3, 4, 5, 10]\n",
      "(1, 2, 3, 4, 5, 10)\n"
     ]
    }
   ],
   "source": [
    "a = [1,2,3,4,5,10] # A list\n",
    "b = (1,2,3,4,5,10) # A tuple\n",
    "print(a)\n",
    "print(b)"
   ]
  },
  {
   "cell_type": "markdown",
   "id": "b5886217-4ed6-45be-8934-cdee1fe8e610",
   "metadata": {},
   "source": [
    "We are just **re-assigning** a new value to the variable. \n",
    "\n",
    "The new value just **replaces** the old one.\n",
    "\n",
    "In mutation, the same data structure remains in place and its contents are changed."
   ]
  },
  {
   "cell_type": "markdown",
   "id": "80c6a228-fe94-4488-b3c1-d0c2736c1fac",
   "metadata": {},
   "source": [
    "Note, however, that this works with tuples:"
   ]
  },
  {
   "cell_type": "code",
   "execution_count": 12,
   "id": "ac41655c-8207-449f-914f-0a873c7a2019",
   "metadata": {
    "tags": []
   },
   "outputs": [
    {
     "name": "stdout",
     "output_type": "stream",
     "text": [
      "(1, 2, 3, 4, 5, 10, 11)\n"
     ]
    }
   ],
   "source": [
    "b += (11,)\n",
    "print(b)"
   ]
  },
  {
   "cell_type": "markdown",
   "id": "907449fb-7fe5-49ba-8d33-e84480c4be59",
   "metadata": {},
   "source": [
    "It looks like mutation, but it's not.\n",
    "\n",
    "This is because we are replacing `b` with a new tuple value.\n",
    "\n",
    "> Notice that we write a single valued tuple with a comma. Why?"
   ]
  },
  {
   "cell_type": "markdown",
   "id": "dd62dd44-2285-4034-882b-d71fc9a9087a",
   "metadata": {},
   "source": [
    "**Behavior**\n",
    "\n",
    "Relatedly, mutable and immutable objects behave differently.\n",
    "\n",
    "For example, when you assign a variable to another variable of a \\\n",
    "mutable datatype, any changes to the data are reflected by both variables. \n",
    "\n",
    "The new variable is just an alias for the old variable. \n",
    "\n",
    "This is only true for mutable datatypes. "
   ]
  },
  {
   "cell_type": "markdown",
   "id": "26701ea2-1b8a-4f83-a27d-b7b058181edc",
   "metadata": {},
   "source": [
    "Lets explore how `+` operator behaves differently."
   ]
  },
  {
   "cell_type": "markdown",
   "id": "59832880-3384-4106-824c-89d2b799dd56",
   "metadata": {
    "tags": []
   },
   "source": [
    "**List t1**\n",
    "\n",
    "We initialize a list and make a copy of it.\n",
    "\n",
    "Note that they two variables share the same `id`."
   ]
  },
  {
   "cell_type": "code",
   "execution_count": 201,
   "id": "6a6b3b1d-0cd4-4de4-b76f-eabcd49ff3a6",
   "metadata": {
    "tags": []
   },
   "outputs": [
    {
     "name": "stdout",
     "output_type": "stream",
     "text": [
      "t1 a0 [1, 2, 3, 4, 5] 4624009728\n",
      "t1 a1 [1, 2, 3, 4, 5] 4624009728\n",
      "True\n"
     ]
    }
   ],
   "source": [
    "a0 = [1,2,3,4,5]\n",
    "a1 = a0 # Make a copy of a list\n",
    "print('t1', 'a0', a0, id(a0))\n",
    "print('t1', 'a1', a1, id(a1))\n",
    "print(id(a0) == id(a1))"
   ]
  },
  {
   "cell_type": "markdown",
   "id": "ead9e0f7-47d9-4dca-9649-69e2a058b0ae",
   "metadata": {},
   "source": [
    "**List t2**\n",
    "\n",
    "Now we add to the copy and note the effects on the original. \n",
    "\n",
    "The original value is also changed."
   ]
  },
  {
   "cell_type": "code",
   "execution_count": 202,
   "id": "46b023d3-88ea-42a0-a958-f41ec9c421de",
   "metadata": {
    "tags": []
   },
   "outputs": [
    {
     "name": "stdout",
     "output_type": "stream",
     "text": [
      "t2 a0 [1, 2, 3, 4, 5, 12] 4624009728\n",
      "t2 a1 [1, 2, 3, 4, 5, 12] 4624009728\n",
      "True\n"
     ]
    }
   ],
   "source": [
    "a1 += [12] # Extend the copy\n",
    "print('t2', 'a0', a0, id(a0)) \n",
    "print('t2', 'a1', a1, id(a1))\n",
    "print(id(a0) == id(a1))"
   ]
  },
  {
   "cell_type": "markdown",
   "id": "17272f86-bb12-42fe-b45f-61ad9a373e00",
   "metadata": {},
   "source": [
    "**List t3**\n",
    "\n",
    "Note, however, that if we _don't_ use the unary operator,\\\n",
    "the `a1` becomes a different object! This is weird and \\\n",
    "does not seem to be noticed by the [Python people](https://book.pythontips.com/en/latest/mutation.html)."
   ]
  },
  {
   "cell_type": "code",
   "execution_count": 203,
   "id": "8866ab11-bc43-4285-be1e-8ab92e558391",
   "metadata": {
    "tags": []
   },
   "outputs": [
    {
     "name": "stdout",
     "output_type": "stream",
     "text": [
      "t3 a0 [1, 2, 3, 4, 5, 12] 4624009728\n",
      "t3 a1 [1, 2, 3, 4, 5, 12, 12] 4623958848\n",
      "False\n"
     ]
    }
   ],
   "source": [
    "a1 = a1 + [12] # Extend the copy\n",
    "print('t3', 'a0', a0, id(a0))\n",
    "print('t3', 'a1', a1, id(a1))\n",
    "print(id(a0) == id(a1))"
   ]
  },
  {
   "cell_type": "markdown",
   "id": "19cad344-4664-4ed8-85ec-1af9511330fe",
   "metadata": {},
   "source": [
    "**Tuple t1**\n",
    "\n",
    "Let's try this with a tuple.\n",
    "\n",
    "We see that both variables have the same `id`."
   ]
  },
  {
   "cell_type": "code",
   "execution_count": 208,
   "id": "5b746f1e-34d1-41df-b1b0-fce9c4e68cd7",
   "metadata": {
    "tags": []
   },
   "outputs": [
    {
     "name": "stdout",
     "output_type": "stream",
     "text": [
      "t1 b0 (1, 2, 3, 4, 5) 4623945136\n",
      "t1 b1 (1, 2, 3, 4, 5) 4623945136\n",
      "True\n"
     ]
    }
   ],
   "source": [
    "b0 = (1,2,3,4,5)\n",
    "b1 = b0 # Make a copy of a tuple\n",
    "print('t1', 'b0', b0, id(b0))\n",
    "print('t1', 'b1', b1, id(b1))\n",
    "print(id(b0) == id(b1))"
   ]
  },
  {
   "cell_type": "markdown",
   "id": "1355143b-169f-4752-a683-1a2830085d29",
   "metadata": {},
   "source": [
    "**Tuple t2**\n",
    "\n",
    "However, if extend the tuple, `b1` becomes a new object.\n",
    "\n",
    "Note how this differs from the list behavior."
   ]
  },
  {
   "cell_type": "code",
   "execution_count": 209,
   "id": "2155626b-751f-4328-8e82-c7567528baa7",
   "metadata": {
    "tags": []
   },
   "outputs": [
    {
     "name": "stdout",
     "output_type": "stream",
     "text": [
      "t2 b0 (1, 2, 3, 4, 5) 4623945136\n",
      "t2 b1 (1, 2, 3, 4, 5, 12) 4623803552\n",
      "False\n"
     ]
    }
   ],
   "source": [
    "b1 += (12,) # Extend the copy\n",
    "print('t2', 'b0', b0, id(b0))\n",
    "print('t2', 'b1', b1, id(b1))\n",
    "print(id(b0) == id(b1))"
   ]
  },
  {
   "cell_type": "markdown",
   "id": "9a2cc62b-da11-403e-8757-3f39ca1545f2",
   "metadata": {},
   "source": [
    "**Tuple t3**\n",
    "\n",
    "If we don't use the unary operator, the same thing happens again.\n",
    "\n",
    "`b1` becomes a new object because it has been reassigned."
   ]
  },
  {
   "cell_type": "code",
   "execution_count": 210,
   "id": "5fa5af07-506d-4544-8148-825432296701",
   "metadata": {
    "tags": []
   },
   "outputs": [
    {
     "name": "stdout",
     "output_type": "stream",
     "text": [
      "t3 b0 (1, 2, 3, 4, 5) 4623945136\n",
      "t3 b1 (1, 2, 3, 4, 5, 12, 12) 4623802688\n",
      "False\n"
     ]
    }
   ],
   "source": [
    "b1 = b1 + (12,) # Extend the copy\n",
    "print('t3', 'b0', b0, id(b0))\n",
    "print('t3', 'b1', b1, id(b1))\n",
    "print(id(b0) == id(b1))"
   ]
  },
  {
   "cell_type": "markdown",
   "id": "2b2aec85-409e-4f30-ad68-4a770f7ab89c",
   "metadata": {},
   "source": [
    "Another example:"
   ]
  },
  {
   "cell_type": "code",
   "execution_count": 199,
   "id": "da5d24c4-1e02-4546-abd6-5cc62e8fc590",
   "metadata": {
    "tags": []
   },
   "outputs": [
    {
     "name": "stdout",
     "output_type": "stream",
     "text": [
      "['hi']\n",
      "4624052416 4624052416\n",
      "['hi', 'bye']\n",
      "4624052416 4624052416\n"
     ]
    }
   ],
   "source": [
    "foo = ['hi']\n",
    "print(foo)\n",
    "\n",
    "bar = foo\n",
    "print(id(foo), id(bar))\n",
    "\n",
    "bar += ['bye']\n",
    "# bar = bar + ['bye']\n",
    "print(foo)\n",
    "print(id(foo), id(bar))"
   ]
  },
  {
   "cell_type": "code",
   "execution_count": 200,
   "id": "795108be-2fe9-4c2f-bd9a-a72ac1f21dc2",
   "metadata": {
    "tags": []
   },
   "outputs": [
    {
     "name": "stdout",
     "output_type": "stream",
     "text": [
      "hi\n",
      "4564923632 4564923632\n",
      "hi\n",
      "4564923632 4611170544\n"
     ]
    }
   ],
   "source": [
    "foo1 = ('hi')\n",
    "print(foo1)\n",
    "\n",
    "bar1 = foo1\n",
    "print(id(foo1), id(bar1))\n",
    "\n",
    "bar1 += ('bye')\n",
    "print(foo1)\n",
    "print(id(foo1), id(bar1))"
   ]
  },
  {
   "cell_type": "markdown",
   "id": "b0391265-049e-4377-b0c2-79422a887341",
   "metadata": {
    "tags": []
   },
   "source": [
    "## Comparing floats"
   ]
  },
  {
   "cell_type": "markdown",
   "id": "a3a2bf02-4505-461a-82a7-87bd390aa391",
   "metadata": {},
   "source": [
    "Let's do an experiment:"
   ]
  },
  {
   "cell_type": "code",
   "execution_count": 1,
   "id": "5edbcf86-8bb1-4e29-b512-290b011d02ea",
   "metadata": {
    "tags": []
   },
   "outputs": [],
   "source": [
    "f1 = 0.1 + 0.2\n",
    "f2 = 0.3"
   ]
  },
  {
   "cell_type": "code",
   "execution_count": 2,
   "id": "a6a60a74-89cc-4608-8a4d-920da6f7b4b9",
   "metadata": {
    "tags": []
   },
   "outputs": [
    {
     "data": {
      "text/plain": [
       "False"
      ]
     },
     "execution_count": 2,
     "metadata": {},
     "output_type": "execute_result"
    }
   ],
   "source": [
    "f1 == f2"
   ]
  },
  {
   "cell_type": "markdown",
   "id": "17051bbd-319d-41a0-a58d-3578e343ea0a",
   "metadata": {},
   "source": [
    "In the above case, `f1` and `f2` don't hold precisely the same value because of the limitations of representing base-10 fractions in base-2 (binary).\n",
    "\n",
    "Inspecting their values, we find minor differences in the lower significant digits:"
   ]
  },
  {
   "cell_type": "code",
   "execution_count": 3,
   "id": "76436526-1ee6-4a81-91bc-35efbd8e83cf",
   "metadata": {
    "tags": []
   },
   "outputs": [
    {
     "data": {
      "text/plain": [
       "(0.30000000000000004, 0.3)"
      ]
     },
     "execution_count": 3,
     "metadata": {},
     "output_type": "execute_result"
    }
   ],
   "source": [
    "f1, f2"
   ]
  },
  {
   "cell_type": "markdown",
   "id": "303a5f7b-1339-4cd2-a193-0a977870d6b1",
   "metadata": {},
   "source": [
    "Instead of using `==`, try `math.isclose()`:"
   ]
  },
  {
   "cell_type": "code",
   "execution_count": 6,
   "id": "26984d57-21d5-446f-98cc-b18102fa08d5",
   "metadata": {
    "tags": []
   },
   "outputs": [
    {
     "data": {
      "text/plain": [
       "True"
      ]
     },
     "execution_count": 6,
     "metadata": {},
     "output_type": "execute_result"
    }
   ],
   "source": [
    "import math\n",
    "math.isclose(f1, f2)"
   ]
  },
  {
   "cell_type": "markdown",
   "id": "a99595dd-0232-4ca8-8ece-25bc218da0ba",
   "metadata": {},
   "source": [
    "Note that sometimes floating point comparisons _do_ work:"
   ]
  },
  {
   "cell_type": "code",
   "execution_count": 7,
   "id": "71f2b242-5f26-4b5a-9440-f3cb932bae00",
   "metadata": {
    "tags": []
   },
   "outputs": [],
   "source": [
    "f3 = 4.0\n",
    "f4 = 3.5 + .5"
   ]
  },
  {
   "cell_type": "code",
   "execution_count": 8,
   "id": "b2ecd85b-011e-48be-b0fc-1db23a309aa9",
   "metadata": {
    "tags": []
   },
   "outputs": [
    {
     "data": {
      "text/plain": [
       "True"
      ]
     },
     "execution_count": 8,
     "metadata": {},
     "output_type": "execute_result"
    }
   ],
   "source": [
    "f3 == f4"
   ]
  },
  {
   "cell_type": "markdown",
   "id": "4a0d10c7-1704-4bc4-b93a-d3a57b1afb94",
   "metadata": {},
   "source": [
    "See the [Wikipedia](https://en.wikipedia.org/wiki/Floating-point_arithmetic#:~:text=In%20computing%2C%20floating%2Dpoint%20arithmetic,are%20called%20floating%2Dpoint%20numbers.) article on floating point arithmetic to learn more about how this arises. \n",
    "\n",
    "It will provide you with insight into how computers actually work as machines that process numbers."
   ]
  },
  {
   "cell_type": "markdown",
   "id": "bf9310f3-a161-4dc1-b556-d3f3856ce006",
   "metadata": {},
   "source": [
    "## The word \"scalar\"\n",
    "\n",
    "Sometimes you will see the word \"scalar\" in the literature to refer to certain kinds of values.\n",
    "\n",
    "Scalars are **single values** as opposed to structures or collections of values. \n",
    "\n",
    "> Strings as data types sometimes behave as scalars and sometimes as sequential structures."
   ]
  },
  {
   "cell_type": "markdown",
   "id": "3cc9e0d4-b359-4585-be73-d0dab9ccfd13",
   "metadata": {},
   "source": [
    "# Summary"
   ]
  },
  {
   "cell_type": "code",
   "execution_count": 100,
   "id": "bc1f55f2-13e2-49cf-aee1-d8ae2eaa77c8",
   "metadata": {
    "tags": []
   },
   "outputs": [
    {
     "data": {
      "text/html": [
       "<style>table {float: left; clear: right;}</style>\n"
      ],
      "text/plain": [
       "<IPython.core.display.HTML object>"
      ]
     },
     "metadata": {},
     "output_type": "display_data"
    }
   ],
   "source": [
    "%%html\n",
    "<style>table {float: left; clear: right;}</style>"
   ]
  },
  {
   "cell_type": "markdown",
   "id": "06561b4c-15ef-4c53-9de2-07cd44e3b222",
   "metadata": {},
   "source": [
    "**Types**\n",
    "| name | type | literal |\n",
    "|------|------|---------|\n",
    "| `int` | integer | `1` |\n",
    "| `str` | string | `\"1\"`, `'1'` |\n",
    "| `float` | floating point (real) | `1.` |\n",
    "| `complex` | complex | `1j` (imaginary component) |\n",
    "| `bool` | boolean | `True` |"
   ]
  },
  {
   "cell_type": "markdown",
   "id": "1a4a7690-2f60-46e6-8437-6bc1c9729889",
   "metadata": {},
   "source": [
    "**Structures**\n",
    "| name | mutable | constructor |\n",
    "|------|---------|-------------|\n",
    "| `tuple` | no | `()` |\n",
    "| `list` | yes | `[]`\n",
    "| `dict` | yes | `{}` with key/value pairs |\n",
    "| `set` | yes | `{}` with single values |"
   ]
  },
  {
   "cell_type": "code",
   "execution_count": null,
   "id": "ae1c6bef-ec10-4550-817e-62a2f217d41b",
   "metadata": {},
   "outputs": [],
   "source": []
  }
 ],
 "metadata": {
  "kernelspec": {
   "display_name": "Python 3 (ipykernel)",
   "language": "python",
   "name": "python3"
  },
  "language_info": {
   "codemirror_mode": {
    "name": "ipython",
    "version": 3
   },
   "file_extension": ".py",
   "mimetype": "text/x-python",
   "name": "python",
   "nbconvert_exporter": "python",
   "pygments_lexer": "ipython3",
   "version": "3.11.3"
  }
 },
 "nbformat": 4,
 "nbformat_minor": 5
}
